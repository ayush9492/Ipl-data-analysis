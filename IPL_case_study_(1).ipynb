{
  "cells": [
    {
      "cell_type": "code",
      "execution_count": null,
      "id": "ee442a46",
      "metadata": {
        "id": "ee442a46"
      },
      "outputs": [],
      "source": [
        "#loading the required libraries\n",
        "import numpy as np\n",
        "import pandas as pd\n",
        "from matplotlib import pyplot as plt\n",
        "import seaborn as sns "
      ]
    },
    {
      "cell_type": "code",
      "execution_count": null,
      "id": "3ffa8cc7",
      "metadata": {
        "id": "3ffa8cc7"
      },
      "outputs": [],
      "source": [
        "#loading dataset \n",
        "ipl=pd.read_csv('data.csv')"
      ]
    },
    {
      "cell_type": "code",
      "execution_count": null,
      "id": "f0ed92e7",
      "metadata": {
        "id": "f0ed92e7",
        "outputId": "4cca177b-7f79-4c0b-da03-222aca7c94ae"
      },
      "outputs": [
        {
          "data": {
            "text/html": [
              "<div>\n",
              "<style scoped>\n",
              "    .dataframe tbody tr th:only-of-type {\n",
              "        vertical-align: middle;\n",
              "    }\n",
              "\n",
              "    .dataframe tbody tr th {\n",
              "        vertical-align: top;\n",
              "    }\n",
              "\n",
              "    .dataframe thead th {\n",
              "        text-align: right;\n",
              "    }\n",
              "</style>\n",
              "<table border=\"1\" class=\"dataframe\">\n",
              "  <thead>\n",
              "    <tr style=\"text-align: right;\">\n",
              "      <th></th>\n",
              "      <th>id</th>\n",
              "      <th>season</th>\n",
              "      <th>city</th>\n",
              "      <th>date</th>\n",
              "      <th>team1</th>\n",
              "      <th>team2</th>\n",
              "      <th>toss_winner</th>\n",
              "      <th>toss_decision</th>\n",
              "      <th>result</th>\n",
              "      <th>dl_applied</th>\n",
              "      <th>winner</th>\n",
              "      <th>win_by_runs</th>\n",
              "      <th>win_by_wickets</th>\n",
              "      <th>player_of_match</th>\n",
              "      <th>venue</th>\n",
              "      <th>umpire1</th>\n",
              "      <th>umpire2</th>\n",
              "      <th>umpire3</th>\n",
              "    </tr>\n",
              "  </thead>\n",
              "  <tbody>\n",
              "    <tr>\n",
              "      <th>0</th>\n",
              "      <td>1</td>\n",
              "      <td>2008</td>\n",
              "      <td>Bangalore</td>\n",
              "      <td>2008-04-18</td>\n",
              "      <td>Kolkata Knight Riders</td>\n",
              "      <td>Royal Challengers Bangalore</td>\n",
              "      <td>Royal Challengers Bangalore</td>\n",
              "      <td>field</td>\n",
              "      <td>normal</td>\n",
              "      <td>0</td>\n",
              "      <td>Kolkata Knight Riders</td>\n",
              "      <td>140</td>\n",
              "      <td>0</td>\n",
              "      <td>BB McCullum</td>\n",
              "      <td>M Chinnaswamy Stadium</td>\n",
              "      <td>Asad Rauf</td>\n",
              "      <td>RE Koertzen</td>\n",
              "      <td>NaN</td>\n",
              "    </tr>\n",
              "    <tr>\n",
              "      <th>1</th>\n",
              "      <td>2</td>\n",
              "      <td>2008</td>\n",
              "      <td>Chandigarh</td>\n",
              "      <td>2008-04-19</td>\n",
              "      <td>Chennai Super Kings</td>\n",
              "      <td>Kings XI Punjab</td>\n",
              "      <td>Chennai Super Kings</td>\n",
              "      <td>bat</td>\n",
              "      <td>normal</td>\n",
              "      <td>0</td>\n",
              "      <td>Chennai Super Kings</td>\n",
              "      <td>33</td>\n",
              "      <td>0</td>\n",
              "      <td>MEK Hussey</td>\n",
              "      <td>Punjab Cricket Association Stadium, Mohali</td>\n",
              "      <td>MR Benson</td>\n",
              "      <td>SL Shastri</td>\n",
              "      <td>NaN</td>\n",
              "    </tr>\n",
              "    <tr>\n",
              "      <th>2</th>\n",
              "      <td>3</td>\n",
              "      <td>2008</td>\n",
              "      <td>Delhi</td>\n",
              "      <td>2008-04-19</td>\n",
              "      <td>Rajasthan Royals</td>\n",
              "      <td>Delhi Daredevils</td>\n",
              "      <td>Rajasthan Royals</td>\n",
              "      <td>bat</td>\n",
              "      <td>normal</td>\n",
              "      <td>0</td>\n",
              "      <td>Delhi Daredevils</td>\n",
              "      <td>0</td>\n",
              "      <td>9</td>\n",
              "      <td>MF Maharoof</td>\n",
              "      <td>Feroz Shah Kotla</td>\n",
              "      <td>Aleem Dar</td>\n",
              "      <td>GA Pratapkumar</td>\n",
              "      <td>NaN</td>\n",
              "    </tr>\n",
              "    <tr>\n",
              "      <th>3</th>\n",
              "      <td>4</td>\n",
              "      <td>2008</td>\n",
              "      <td>Mumbai</td>\n",
              "      <td>2008-04-20</td>\n",
              "      <td>Mumbai Indians</td>\n",
              "      <td>Royal Challengers Bangalore</td>\n",
              "      <td>Mumbai Indians</td>\n",
              "      <td>bat</td>\n",
              "      <td>normal</td>\n",
              "      <td>0</td>\n",
              "      <td>Royal Challengers Bangalore</td>\n",
              "      <td>0</td>\n",
              "      <td>5</td>\n",
              "      <td>MV Boucher</td>\n",
              "      <td>Wankhede Stadium</td>\n",
              "      <td>SJ Davis</td>\n",
              "      <td>DJ Harper</td>\n",
              "      <td>NaN</td>\n",
              "    </tr>\n",
              "    <tr>\n",
              "      <th>4</th>\n",
              "      <td>5</td>\n",
              "      <td>2008</td>\n",
              "      <td>Kolkata</td>\n",
              "      <td>2008-04-20</td>\n",
              "      <td>Deccan Chargers</td>\n",
              "      <td>Kolkata Knight Riders</td>\n",
              "      <td>Deccan Chargers</td>\n",
              "      <td>bat</td>\n",
              "      <td>normal</td>\n",
              "      <td>0</td>\n",
              "      <td>Kolkata Knight Riders</td>\n",
              "      <td>0</td>\n",
              "      <td>5</td>\n",
              "      <td>DJ Hussey</td>\n",
              "      <td>Eden Gardens</td>\n",
              "      <td>BF Bowden</td>\n",
              "      <td>K Hariharan</td>\n",
              "      <td>NaN</td>\n",
              "    </tr>\n",
              "  </tbody>\n",
              "</table>\n",
              "</div>"
            ],
            "text/plain": [
              "   id  season        city        date                  team1  \\\n",
              "0   1    2008   Bangalore  2008-04-18  Kolkata Knight Riders   \n",
              "1   2    2008  Chandigarh  2008-04-19    Chennai Super Kings   \n",
              "2   3    2008       Delhi  2008-04-19       Rajasthan Royals   \n",
              "3   4    2008      Mumbai  2008-04-20         Mumbai Indians   \n",
              "4   5    2008     Kolkata  2008-04-20        Deccan Chargers   \n",
              "\n",
              "                         team2                  toss_winner toss_decision  \\\n",
              "0  Royal Challengers Bangalore  Royal Challengers Bangalore         field   \n",
              "1              Kings XI Punjab          Chennai Super Kings           bat   \n",
              "2             Delhi Daredevils             Rajasthan Royals           bat   \n",
              "3  Royal Challengers Bangalore               Mumbai Indians           bat   \n",
              "4        Kolkata Knight Riders              Deccan Chargers           bat   \n",
              "\n",
              "   result  dl_applied                       winner  win_by_runs  \\\n",
              "0  normal           0        Kolkata Knight Riders          140   \n",
              "1  normal           0          Chennai Super Kings           33   \n",
              "2  normal           0             Delhi Daredevils            0   \n",
              "3  normal           0  Royal Challengers Bangalore            0   \n",
              "4  normal           0        Kolkata Knight Riders            0   \n",
              "\n",
              "   win_by_wickets player_of_match                                       venue  \\\n",
              "0               0     BB McCullum                       M Chinnaswamy Stadium   \n",
              "1               0      MEK Hussey  Punjab Cricket Association Stadium, Mohali   \n",
              "2               9     MF Maharoof                            Feroz Shah Kotla   \n",
              "3               5      MV Boucher                            Wankhede Stadium   \n",
              "4               5       DJ Hussey                                Eden Gardens   \n",
              "\n",
              "     umpire1         umpire2  umpire3  \n",
              "0  Asad Rauf     RE Koertzen      NaN  \n",
              "1  MR Benson      SL Shastri      NaN  \n",
              "2  Aleem Dar  GA Pratapkumar      NaN  \n",
              "3   SJ Davis       DJ Harper      NaN  \n",
              "4  BF Bowden     K Hariharan      NaN  "
            ]
          },
          "execution_count": 22,
          "metadata": {},
          "output_type": "execute_result"
        }
      ],
      "source": [
        "#having glance of first five matches of the dataset \n",
        "ipl.head()"
      ]
    },
    {
      "cell_type": "code",
      "execution_count": null,
      "id": "d5698c7d",
      "metadata": {
        "id": "d5698c7d",
        "outputId": "75beb02c-1efa-43c3-9456-1b84459b2350"
      },
      "outputs": [
        {
          "data": {
            "text/plain": [
              "(577, 18)"
            ]
          },
          "execution_count": 23,
          "metadata": {},
          "output_type": "execute_result"
        }
      ],
      "source": [
        "#looking at the number of rows and columns of the dataset \n",
        "ipl.shape"
      ]
    },
    {
      "cell_type": "code",
      "execution_count": null,
      "id": "33bc05a8",
      "metadata": {
        "id": "33bc05a8",
        "outputId": "d987e771-a0c5-4156-b5a8-8db91ffb69f8"
      },
      "outputs": [
        {
          "data": {
            "text/plain": [
              "2013    76\n",
              "2012    74\n",
              "2011    73\n",
              "2010    60\n",
              "2014    60\n",
              "2016    60\n",
              "2015    59\n",
              "2008    58\n",
              "2009    57\n",
              "Name: season, dtype: int64"
            ]
          },
          "execution_count": 24,
          "metadata": {},
          "output_type": "execute_result"
        }
      ],
      "source": [
        "ipl['season'].value_counts()"
      ]
    },
    {
      "cell_type": "code",
      "execution_count": null,
      "id": "df2b4d96",
      "metadata": {
        "id": "df2b4d96",
        "outputId": "8b1d455d-9bcd-4cd5-9827-f25d9cf09806"
      },
      "outputs": [
        {
          "data": {
            "text/plain": [
              "CH Gayle          17\n",
              "YK Pathan         16\n",
              "AB de Villiers    15\n",
              "DA Warner         14\n",
              "RG Sharma         13\n",
              "                  ..\n",
              "MN Samuels         1\n",
              "S Badrinath        1\n",
              "R Bhatia           1\n",
              "RE Levi            1\n",
              "BCJ Cutting        1\n",
              "Name: player_of_match, Length: 187, dtype: int64"
            ]
          },
          "execution_count": 6,
          "metadata": {},
          "output_type": "execute_result"
        }
      ],
      "source": [
        "#checking frequency of most player of the match\n",
        "ipl['player_of_match'].value_counts()"
      ]
    },
    {
      "cell_type": "code",
      "execution_count": null,
      "id": "76aacbbe",
      "metadata": {
        "id": "76aacbbe",
        "outputId": "c641e41d-5b03-49c7-ffb5-25a4f05287ad"
      },
      "outputs": [
        {
          "data": {
            "text/plain": [
              "CH Gayle          17\n",
              "YK Pathan         16\n",
              "AB de Villiers    15\n",
              "DA Warner         14\n",
              "RG Sharma         13\n",
              "SK Raina          13\n",
              "AM Rahane         12\n",
              "MEK Hussey        12\n",
              "G Gambhir         12\n",
              "MS Dhoni          12\n",
              "Name: player_of_match, dtype: int64"
            ]
          },
          "execution_count": 7,
          "metadata": {},
          "output_type": "execute_result"
        }
      ],
      "source": [
        "#getting the top 10 players with most player of the match\n",
        "ipl['player_of_match'].value_counts()[0:10]"
      ]
    },
    {
      "cell_type": "code",
      "execution_count": null,
      "id": "9e59395d",
      "metadata": {
        "id": "9e59395d",
        "outputId": "883ae61e-b7e3-4983-982b-78f20a96a99d"
      },
      "outputs": [
        {
          "data": {
            "text/plain": [
              "CH Gayle          17\n",
              "YK Pathan         16\n",
              "AB de Villiers    15\n",
              "DA Warner         14\n",
              "RG Sharma         13\n",
              "Name: player_of_match, dtype: int64"
            ]
          },
          "execution_count": 8,
          "metadata": {},
          "output_type": "execute_result"
        }
      ],
      "source": [
        "#getting the top 5 players with most player of the match\n",
        "ipl['player_of_match'].value_counts()[0:5]"
      ]
    },
    {
      "cell_type": "code",
      "execution_count": null,
      "id": "f87d6388",
      "metadata": {
        "id": "f87d6388",
        "outputId": "f9079225-e843-4b25-f554-c27d99c7357d"
      },
      "outputs": [
        {
          "data": {
            "text/plain": [
              "['CH Gayle', 'YK Pathan', 'AB de Villiers', 'DA Warner', 'RG Sharma']"
            ]
          },
          "execution_count": 10,
          "metadata": {},
          "output_type": "execute_result"
        }
      ],
      "source": [
        "list(ipl['player_of_match'].value_counts()[0:5].keys())"
      ]
    },
    {
      "cell_type": "code",
      "execution_count": null,
      "id": "2f0eab5a",
      "metadata": {
        "id": "2f0eab5a",
        "outputId": "7a63992c-1114-4f16-8b70-d3fe4fef891b"
      },
      "outputs": [
        {
          "data": {
            "image/png": "[encoded data removed]",
            "text/plain": [
              "<Figure size 576x360 with 1 Axes>"
            ]
          },
          "metadata": {
            "needs_background": "light"
          },
          "output_type": "display_data"
        }
      ],
      "source": [
        "plt.figure(figsize=(8,5))\n",
        "plt.bar(list(ipl['player_of_match'].value_counts()[0:5].keys()),list(ipl['player_of_match'].value_counts()[0:5]),color=\"g\")\n",
        "plt.show()"
      ]
    },
    {
      "cell_type": "code",
      "execution_count": null,
      "id": "7d145ffd",
      "metadata": {
        "id": "7d145ffd",
        "outputId": "a73e456b-ec71-4449-93e3-5b2f4ba92823"
      },
      "outputs": [
        {
          "data": {
            "text/plain": [
              "normal       568\n",
              "tie            6\n",
              "no result      3\n",
              "Name: result, dtype: int64"
            ]
          },
          "execution_count": 16,
          "metadata": {},
          "output_type": "execute_result"
        }
      ],
      "source": [
        "#frequency of result column\n",
        "ipl['result'].value_counts()"
      ]
    },
    {
      "cell_type": "code",
      "execution_count": null,
      "id": "7f54f605",
      "metadata": {
        "id": "7f54f605",
        "outputId": "00459ba0-17a5-4e73-d015-aa8f7b7f378e"
      },
      "outputs": [
        {
          "data": {
            "text/plain": [
              "Mumbai Indians                 74\n",
              "Kolkata Knight Riders          69\n",
              "Chennai Super Kings            66\n",
              "Kings XI Punjab                64\n",
              "Delhi Daredevils               64\n",
              "Rajasthan Royals               63\n",
              "Royal Challengers Bangalore    61\n",
              "Deccan Chargers                43\n",
              "Sunrisers Hyderabad            30\n",
              "Pune Warriors                  20\n",
              "Kochi Tuskers Kerala            8\n",
              "Gujarat Lions                   8\n",
              "Rising Pune Supergiants         7\n",
              "Name: toss_winner, dtype: int64"
            ]
          },
          "execution_count": 17,
          "metadata": {},
          "output_type": "execute_result"
        }
      ],
      "source": [
        "#frequency of toss winner column\n",
        "ipl['toss_winner'].value_counts()"
      ]
    },
    {
      "cell_type": "code",
      "execution_count": null,
      "id": "38d1d4d5",
      "metadata": {
        "id": "38d1d4d5"
      },
      "outputs": [],
      "source": [
        "#extracting a data which team won batting first\n",
        "batting_first=ipl[ipl['win_by_runs']!=0]"
      ]
    },
    {
      "cell_type": "code",
      "execution_count": null,
      "id": "29f9eb95",
      "metadata": {
        "id": "29f9eb95",
        "outputId": "47fa8076-da75-4e17-c44a-30163f7b4697"
      },
      "outputs": [
        {
          "data": {
            "text/html": [
              "<div>\n",
              "<style scoped>\n",
              "    .dataframe tbody tr th:only-of-type {\n",
              "        vertical-align: middle;\n",
              "    }\n",
              "\n",
              "    .dataframe tbody tr th {\n",
              "        vertical-align: top;\n",
              "    }\n",
              "\n",
              "    .dataframe thead th {\n",
              "        text-align: right;\n",
              "    }\n",
              "</style>\n",
              "<table border=\"1\" class=\"dataframe\">\n",
              "  <thead>\n",
              "    <tr style=\"text-align: right;\">\n",
              "      <th></th>\n",
              "      <th>id</th>\n",
              "      <th>season</th>\n",
              "      <th>city</th>\n",
              "      <th>date</th>\n",
              "      <th>team1</th>\n",
              "      <th>team2</th>\n",
              "      <th>toss_winner</th>\n",
              "      <th>toss_decision</th>\n",
              "      <th>result</th>\n",
              "      <th>dl_applied</th>\n",
              "      <th>winner</th>\n",
              "      <th>win_by_runs</th>\n",
              "      <th>win_by_wickets</th>\n",
              "      <th>player_of_match</th>\n",
              "      <th>venue</th>\n",
              "      <th>umpire1</th>\n",
              "      <th>umpire2</th>\n",
              "      <th>umpire3</th>\n",
              "    </tr>\n",
              "  </thead>\n",
              "  <tbody>\n",
              "    <tr>\n",
              "      <th>0</th>\n",
              "      <td>1</td>\n",
              "      <td>2008</td>\n",
              "      <td>Bangalore</td>\n",
              "      <td>2008-04-18</td>\n",
              "      <td>Kolkata Knight Riders</td>\n",
              "      <td>Royal Challengers Bangalore</td>\n",
              "      <td>Royal Challengers Bangalore</td>\n",
              "      <td>field</td>\n",
              "      <td>normal</td>\n",
              "      <td>0</td>\n",
              "      <td>Kolkata Knight Riders</td>\n",
              "      <td>140</td>\n",
              "      <td>0</td>\n",
              "      <td>BB McCullum</td>\n",
              "      <td>M Chinnaswamy Stadium</td>\n",
              "      <td>Asad Rauf</td>\n",
              "      <td>RE Koertzen</td>\n",
              "      <td>NaN</td>\n",
              "    </tr>\n",
              "    <tr>\n",
              "      <th>1</th>\n",
              "      <td>2</td>\n",
              "      <td>2008</td>\n",
              "      <td>Chandigarh</td>\n",
              "      <td>2008-04-19</td>\n",
              "      <td>Chennai Super Kings</td>\n",
              "      <td>Kings XI Punjab</td>\n",
              "      <td>Chennai Super Kings</td>\n",
              "      <td>bat</td>\n",
              "      <td>normal</td>\n",
              "      <td>0</td>\n",
              "      <td>Chennai Super Kings</td>\n",
              "      <td>33</td>\n",
              "      <td>0</td>\n",
              "      <td>MEK Hussey</td>\n",
              "      <td>Punjab Cricket Association Stadium, Mohali</td>\n",
              "      <td>MR Benson</td>\n",
              "      <td>SL Shastri</td>\n",
              "      <td>NaN</td>\n",
              "    </tr>\n",
              "    <tr>\n",
              "      <th>7</th>\n",
              "      <td>8</td>\n",
              "      <td>2008</td>\n",
              "      <td>Chennai</td>\n",
              "      <td>2008-04-23</td>\n",
              "      <td>Chennai Super Kings</td>\n",
              "      <td>Mumbai Indians</td>\n",
              "      <td>Mumbai Indians</td>\n",
              "      <td>field</td>\n",
              "      <td>normal</td>\n",
              "      <td>0</td>\n",
              "      <td>Chennai Super Kings</td>\n",
              "      <td>6</td>\n",
              "      <td>0</td>\n",
              "      <td>ML Hayden</td>\n",
              "      <td>MA Chidambaram Stadium, Chepauk</td>\n",
              "      <td>DJ Harper</td>\n",
              "      <td>GA Pratapkumar</td>\n",
              "      <td>NaN</td>\n",
              "    </tr>\n",
              "    <tr>\n",
              "      <th>9</th>\n",
              "      <td>10</td>\n",
              "      <td>2008</td>\n",
              "      <td>Chandigarh</td>\n",
              "      <td>2008-04-25</td>\n",
              "      <td>Kings XI Punjab</td>\n",
              "      <td>Mumbai Indians</td>\n",
              "      <td>Mumbai Indians</td>\n",
              "      <td>field</td>\n",
              "      <td>normal</td>\n",
              "      <td>0</td>\n",
              "      <td>Kings XI Punjab</td>\n",
              "      <td>66</td>\n",
              "      <td>0</td>\n",
              "      <td>KC Sangakkara</td>\n",
              "      <td>Punjab Cricket Association Stadium, Mohali</td>\n",
              "      <td>Aleem Dar</td>\n",
              "      <td>AM Saheba</td>\n",
              "      <td>NaN</td>\n",
              "    </tr>\n",
              "    <tr>\n",
              "      <th>14</th>\n",
              "      <td>15</td>\n",
              "      <td>2008</td>\n",
              "      <td>Bangalore</td>\n",
              "      <td>2008-04-28</td>\n",
              "      <td>Chennai Super Kings</td>\n",
              "      <td>Royal Challengers Bangalore</td>\n",
              "      <td>Chennai Super Kings</td>\n",
              "      <td>bat</td>\n",
              "      <td>normal</td>\n",
              "      <td>0</td>\n",
              "      <td>Chennai Super Kings</td>\n",
              "      <td>13</td>\n",
              "      <td>0</td>\n",
              "      <td>MS Dhoni</td>\n",
              "      <td>M Chinnaswamy Stadium</td>\n",
              "      <td>BR Doctrove</td>\n",
              "      <td>RB Tiffin</td>\n",
              "      <td>NaN</td>\n",
              "    </tr>\n",
              "  </tbody>\n",
              "</table>\n",
              "</div>"
            ],
            "text/plain": [
              "    id  season        city        date                  team1  \\\n",
              "0    1    2008   Bangalore  2008-04-18  Kolkata Knight Riders   \n",
              "1    2    2008  Chandigarh  2008-04-19    Chennai Super Kings   \n",
              "7    8    2008     Chennai  2008-04-23    Chennai Super Kings   \n",
              "9   10    2008  Chandigarh  2008-04-25        Kings XI Punjab   \n",
              "14  15    2008   Bangalore  2008-04-28    Chennai Super Kings   \n",
              "\n",
              "                          team2                  toss_winner toss_decision  \\\n",
              "0   Royal Challengers Bangalore  Royal Challengers Bangalore         field   \n",
              "1               Kings XI Punjab          Chennai Super Kings           bat   \n",
              "7                Mumbai Indians               Mumbai Indians         field   \n",
              "9                Mumbai Indians               Mumbai Indians         field   \n",
              "14  Royal Challengers Bangalore          Chennai Super Kings           bat   \n",
              "\n",
              "    result  dl_applied                 winner  win_by_runs  win_by_wickets  \\\n",
              "0   normal           0  Kolkata Knight Riders          140               0   \n",
              "1   normal           0    Chennai Super Kings           33               0   \n",
              "7   normal           0    Chennai Super Kings            6               0   \n",
              "9   normal           0        Kings XI Punjab           66               0   \n",
              "14  normal           0    Chennai Super Kings           13               0   \n",
              "\n",
              "   player_of_match                                       venue      umpire1  \\\n",
              "0      BB McCullum                       M Chinnaswamy Stadium    Asad Rauf   \n",
              "1       MEK Hussey  Punjab Cricket Association Stadium, Mohali    MR Benson   \n",
              "7        ML Hayden             MA Chidambaram Stadium, Chepauk    DJ Harper   \n",
              "9    KC Sangakkara  Punjab Cricket Association Stadium, Mohali    Aleem Dar   \n",
              "14        MS Dhoni                       M Chinnaswamy Stadium  BR Doctrove   \n",
              "\n",
              "           umpire2  umpire3  \n",
              "0      RE Koertzen      NaN  \n",
              "1       SL Shastri      NaN  \n",
              "7   GA Pratapkumar      NaN  \n",
              "9        AM Saheba      NaN  \n",
              "14       RB Tiffin      NaN  "
            ]
          },
          "execution_count": 19,
          "metadata": {},
          "output_type": "execute_result"
        }
      ],
      "source": [
        "#looking at the head\n",
        "batting_first.head()"
      ]
    },
    {
      "cell_type": "code",
      "execution_count": null,
      "id": "1a4ff8e5",
      "metadata": {
        "id": "1a4ff8e5",
        "outputId": "5e346b8d-d16d-4147-ece8-18158048c8f2"
      },
      "outputs": [
        {
          "data": {
            "image/png": "[encoded data removed]",
            "text/plain": [
              "<Figure size 360x360 with 1 Axes>"
            ]
          },
          "metadata": {
            "needs_background": "light"
          },
          "output_type": "display_data"
        }
      ],
      "source": [
        "#making a histogram\n",
        "plt.figure(figsize=(5,5))\n",
        "plt.hist(batting_first['win_by_runs'])\n",
        "plt.title(\"distribution of runs\")\n",
        "plt.xlabel(\"Runs\")\n",
        "plt.show()"
      ]
    },
    {
      "cell_type": "code",
      "execution_count": null,
      "id": "2a476146",
      "metadata": {
        "id": "2a476146",
        "outputId": "4882debc-e03c-4394-d73f-b5bbc6514f12"
      },
      "outputs": [
        {
          "data": {
            "text/plain": [
              "Chennai Super Kings            46\n",
              "Mumbai Indians                 43\n",
              "Kolkata Knight Riders          29\n",
              "Kings XI Punjab                28\n",
              "Royal Challengers Bangalore    27\n",
              "Rajasthan Royals               23\n",
              "Delhi Daredevils               18\n",
              "Deccan Chargers                18\n",
              "Sunrisers Hyderabad            18\n",
              "Pune Warriors                   6\n",
              "Kochi Tuskers Kerala            2\n",
              "Rising Pune Supergiants         2\n",
              "Gujarat Lions                   1\n",
              "Name: winner, dtype: int64"
            ]
          },
          "execution_count": 28,
          "metadata": {},
          "output_type": "execute_result"
        }
      ],
      "source": [
        "#finding number of wins w.r.t each team after batting first\n",
        "batting_first['winner'].value_counts()"
      ]
    },
    {
      "cell_type": "code",
      "execution_count": null,
      "id": "f7c23a01",
      "metadata": {
        "id": "f7c23a01",
        "outputId": "68b08b39-fb86-45b8-f10a-b0e79db81c02"
      },
      "outputs": [
        {
          "data": {
            "image/png": "[encoded data removed]",
            "text/plain": [
              "<Figure size 360x360 with 1 Axes>"
            ]
          },
          "metadata": {
            "needs_background": "light"
          },
          "output_type": "display_data"
        }
      ],
      "source": [
        "#making histogram\n",
        "plt.figure(figsize=(5,5))\n",
        "plt.bar(list(batting_first['winner'].value_counts()[0:3].keys()),list(batting_first['winner'].value_counts()[0:3]),color=[\"yellow\",\"blue\",\"orange\"])\n",
        "plt.show()"
      ]
    },
    {
      "cell_type": "code",
      "execution_count": null,
      "id": "3eba21e4",
      "metadata": {
        "id": "3eba21e4",
        "outputId": "dcc5f387-a4a8-47ad-ccc9-db11e618086d"
      },
      "outputs": [
        {
          "data": {
            "image/png": "[encoded data removed]",
            "text/plain": [
              "<Figure size 504x504 with 1 Axes>"
            ]
          },
          "metadata": {},
          "output_type": "display_data"
        }
      ],
      "source": [
        "plt.figure(figsize=(7,7))\n",
        "plt.pie(list(batting_first['winner'].value_counts()),labels=list(batting_first['winner'].value_counts().keys()),autopct='%0.1f%%')\n",
        "plt.show()"
      ]
    },
    {
      "cell_type": "code",
      "execution_count": null,
      "id": "d8a84c89",
      "metadata": {
        "id": "d8a84c89",
        "outputId": "5b82a5e0-0d58-4e64-bd55-ad8f8b91a196"
      },
      "outputs": [
        {
          "data": {
            "image/png": "[encoded data removed]",
            "text/plain": [
              "<Figure size 504x504 with 1 Axes>"
            ]
          },
          "metadata": {},
          "output_type": "display_data"
        }
      ],
      "source": [
        "#pie chart for first 3 teams who are winner after batting first\n",
        "plt.figure(figsize=(7,7))\n",
        "plt.pie(list(batting_first['winner'].value_counts()[0:3]),labels=list(batting_first['winner'].value_counts()[0:3].keys()),autopct='%0.1f%%')\n",
        "plt.show()"
      ]
    },
    {
      "cell_type": "code",
      "execution_count": null,
      "id": "28ed63ba",
      "metadata": {
        "id": "28ed63ba"
      },
      "outputs": [],
      "source": [
        "#extracting those records where team won batting second\n",
        "batting_second=ipl[ipl['win_by_wickets']!=0]"
      ]
    },
    {
      "cell_type": "code",
      "execution_count": null,
      "id": "1cf894c7",
      "metadata": {
        "id": "1cf894c7",
        "outputId": "2c66614f-c216-4308-c525-d58023e2e76b"
      },
      "outputs": [
        {
          "data": {
            "text/html": [
              "<div>\n",
              "<style scoped>\n",
              "    .dataframe tbody tr th:only-of-type {\n",
              "        vertical-align: middle;\n",
              "    }\n",
              "\n",
              "    .dataframe tbody tr th {\n",
              "        vertical-align: top;\n",
              "    }\n",
              "\n",
              "    .dataframe thead th {\n",
              "        text-align: right;\n",
              "    }\n",
              "</style>\n",
              "<table border=\"1\" class=\"dataframe\">\n",
              "  <thead>\n",
              "    <tr style=\"text-align: right;\">\n",
              "      <th></th>\n",
              "      <th>id</th>\n",
              "      <th>season</th>\n",
              "      <th>city</th>\n",
              "      <th>date</th>\n",
              "      <th>team1</th>\n",
              "      <th>team2</th>\n",
              "      <th>toss_winner</th>\n",
              "      <th>toss_decision</th>\n",
              "      <th>result</th>\n",
              "      <th>dl_applied</th>\n",
              "      <th>winner</th>\n",
              "      <th>win_by_runs</th>\n",
              "      <th>win_by_wickets</th>\n",
              "      <th>player_of_match</th>\n",
              "      <th>venue</th>\n",
              "      <th>umpire1</th>\n",
              "      <th>umpire2</th>\n",
              "      <th>umpire3</th>\n",
              "    </tr>\n",
              "  </thead>\n",
              "  <tbody>\n",
              "    <tr>\n",
              "      <th>2</th>\n",
              "      <td>3</td>\n",
              "      <td>2008</td>\n",
              "      <td>Delhi</td>\n",
              "      <td>2008-04-19</td>\n",
              "      <td>Rajasthan Royals</td>\n",
              "      <td>Delhi Daredevils</td>\n",
              "      <td>Rajasthan Royals</td>\n",
              "      <td>bat</td>\n",
              "      <td>normal</td>\n",
              "      <td>0</td>\n",
              "      <td>Delhi Daredevils</td>\n",
              "      <td>0</td>\n",
              "      <td>9</td>\n",
              "      <td>MF Maharoof</td>\n",
              "      <td>Feroz Shah Kotla</td>\n",
              "      <td>Aleem Dar</td>\n",
              "      <td>GA Pratapkumar</td>\n",
              "      <td>NaN</td>\n",
              "    </tr>\n",
              "    <tr>\n",
              "      <th>3</th>\n",
              "      <td>4</td>\n",
              "      <td>2008</td>\n",
              "      <td>Mumbai</td>\n",
              "      <td>2008-04-20</td>\n",
              "      <td>Mumbai Indians</td>\n",
              "      <td>Royal Challengers Bangalore</td>\n",
              "      <td>Mumbai Indians</td>\n",
              "      <td>bat</td>\n",
              "      <td>normal</td>\n",
              "      <td>0</td>\n",
              "      <td>Royal Challengers Bangalore</td>\n",
              "      <td>0</td>\n",
              "      <td>5</td>\n",
              "      <td>MV Boucher</td>\n",
              "      <td>Wankhede Stadium</td>\n",
              "      <td>SJ Davis</td>\n",
              "      <td>DJ Harper</td>\n",
              "      <td>NaN</td>\n",
              "    </tr>\n",
              "    <tr>\n",
              "      <th>4</th>\n",
              "      <td>5</td>\n",
              "      <td>2008</td>\n",
              "      <td>Kolkata</td>\n",
              "      <td>2008-04-20</td>\n",
              "      <td>Deccan Chargers</td>\n",
              "      <td>Kolkata Knight Riders</td>\n",
              "      <td>Deccan Chargers</td>\n",
              "      <td>bat</td>\n",
              "      <td>normal</td>\n",
              "      <td>0</td>\n",
              "      <td>Kolkata Knight Riders</td>\n",
              "      <td>0</td>\n",
              "      <td>5</td>\n",
              "      <td>DJ Hussey</td>\n",
              "      <td>Eden Gardens</td>\n",
              "      <td>BF Bowden</td>\n",
              "      <td>K Hariharan</td>\n",
              "      <td>NaN</td>\n",
              "    </tr>\n",
              "    <tr>\n",
              "      <th>5</th>\n",
              "      <td>6</td>\n",
              "      <td>2008</td>\n",
              "      <td>Jaipur</td>\n",
              "      <td>2008-04-21</td>\n",
              "      <td>Kings XI Punjab</td>\n",
              "      <td>Rajasthan Royals</td>\n",
              "      <td>Kings XI Punjab</td>\n",
              "      <td>bat</td>\n",
              "      <td>normal</td>\n",
              "      <td>0</td>\n",
              "      <td>Rajasthan Royals</td>\n",
              "      <td>0</td>\n",
              "      <td>6</td>\n",
              "      <td>SR Watson</td>\n",
              "      <td>Sawai Mansingh Stadium</td>\n",
              "      <td>Aleem Dar</td>\n",
              "      <td>RB Tiffin</td>\n",
              "      <td>NaN</td>\n",
              "    </tr>\n",
              "    <tr>\n",
              "      <th>6</th>\n",
              "      <td>7</td>\n",
              "      <td>2008</td>\n",
              "      <td>Hyderabad</td>\n",
              "      <td>2008-04-22</td>\n",
              "      <td>Deccan Chargers</td>\n",
              "      <td>Delhi Daredevils</td>\n",
              "      <td>Deccan Chargers</td>\n",
              "      <td>bat</td>\n",
              "      <td>normal</td>\n",
              "      <td>0</td>\n",
              "      <td>Delhi Daredevils</td>\n",
              "      <td>0</td>\n",
              "      <td>9</td>\n",
              "      <td>V Sehwag</td>\n",
              "      <td>Rajiv Gandhi International Stadium, Uppal</td>\n",
              "      <td>IL Howell</td>\n",
              "      <td>AM Saheba</td>\n",
              "      <td>NaN</td>\n",
              "    </tr>\n",
              "  </tbody>\n",
              "</table>\n",
              "</div>"
            ],
            "text/plain": [
              "   id  season       city        date             team1  \\\n",
              "2   3    2008      Delhi  2008-04-19  Rajasthan Royals   \n",
              "3   4    2008     Mumbai  2008-04-20    Mumbai Indians   \n",
              "4   5    2008    Kolkata  2008-04-20   Deccan Chargers   \n",
              "5   6    2008     Jaipur  2008-04-21   Kings XI Punjab   \n",
              "6   7    2008  Hyderabad  2008-04-22   Deccan Chargers   \n",
              "\n",
              "                         team2       toss_winner toss_decision  result  \\\n",
              "2             Delhi Daredevils  Rajasthan Royals           bat  normal   \n",
              "3  Royal Challengers Bangalore    Mumbai Indians           bat  normal   \n",
              "4        Kolkata Knight Riders   Deccan Chargers           bat  normal   \n",
              "5             Rajasthan Royals   Kings XI Punjab           bat  normal   \n",
              "6             Delhi Daredevils   Deccan Chargers           bat  normal   \n",
              "\n",
              "   dl_applied                       winner  win_by_runs  win_by_wickets  \\\n",
              "2           0             Delhi Daredevils            0               9   \n",
              "3           0  Royal Challengers Bangalore            0               5   \n",
              "4           0        Kolkata Knight Riders            0               5   \n",
              "5           0             Rajasthan Royals            0               6   \n",
              "6           0             Delhi Daredevils            0               9   \n",
              "\n",
              "  player_of_match                                      venue    umpire1  \\\n",
              "2     MF Maharoof                           Feroz Shah Kotla  Aleem Dar   \n",
              "3      MV Boucher                           Wankhede Stadium   SJ Davis   \n",
              "4       DJ Hussey                               Eden Gardens  BF Bowden   \n",
              "5       SR Watson                     Sawai Mansingh Stadium  Aleem Dar   \n",
              "6        V Sehwag  Rajiv Gandhi International Stadium, Uppal  IL Howell   \n",
              "\n",
              "          umpire2  umpire3  \n",
              "2  GA Pratapkumar      NaN  \n",
              "3       DJ Harper      NaN  \n",
              "4     K Hariharan      NaN  \n",
              "5       RB Tiffin      NaN  \n",
              "6       AM Saheba      NaN  "
            ]
          },
          "execution_count": 55,
          "metadata": {},
          "output_type": "execute_result"
        }
      ],
      "source": [
        "batting_second.head()"
      ]
    },
    {
      "cell_type": "code",
      "execution_count": null,
      "id": "f6a39313",
      "metadata": {
        "id": "f6a39313",
        "outputId": "08700c11-db92-4905-e499-a59597f6b8b5"
      },
      "outputs": [
        {
          "data": {
            "text/plain": [
              "Royal Challengers Bangalore    42\n",
              "Kolkata Knight Riders          39\n",
              "Delhi Daredevils               38\n",
              "Rajasthan Royals               38\n",
              "Mumbai Indians                 37\n",
              "Chennai Super Kings            33\n",
              "Kings XI Punjab                33\n",
              "Sunrisers Hyderabad            15\n",
              "Deccan Chargers                11\n",
              "Gujarat Lions                   8\n",
              "Pune Warriors                   6\n",
              "Kochi Tuskers Kerala            4\n",
              "Rising Pune Supergiants         3\n",
              "Name: winner, dtype: int64"
            ]
          },
          "execution_count": 56,
          "metadata": {},
          "output_type": "execute_result"
        }
      ],
      "source": [
        "#finding out frequency of number of wins w.r.t everytime batting second \n",
        "batting_second['winner'].value_counts()"
      ]
    },
    {
      "cell_type": "code",
      "execution_count": null,
      "id": "7d7e4173",
      "metadata": {
        "id": "7d7e4173",
        "outputId": "720d5add-f863-4dcc-fa06-b2c6f0ee62e9"
      },
      "outputs": [
        {
          "data": {
            "image/png": "[encoded data removed]",
            "text/plain": [
              "<Figure size 504x504 with 1 Axes>"
            ]
          },
          "metadata": {
            "needs_background": "light"
          },
          "output_type": "display_data"
        }
      ],
      "source": [
        "#making a bar plot for top 3 teams with most wins after batting second\n",
        "plt.figure(figsize=(7,7))\n",
        "plt.bar(list(batting_second['winner'].value_counts()[0:3].keys()),list(batting_second['winner'].value_counts()[0:3]),color=[\"purple\",\"blue\",\"red\"])\n",
        "plt.show()"
      ]
    },
    {
      "cell_type": "code",
      "execution_count": null,
      "id": "3e5f46b5",
      "metadata": {
        "id": "3e5f46b5",
        "outputId": "391f7178-4929-43aa-a614-33c0cae08b5f"
      },
      "outputs": [
        {
          "data": {
            "image/png": "[encoded data removed]",
            "text/plain": [
              "<Figure size 360x360 with 1 Axes>"
            ]
          },
          "metadata": {
            "needs_background": "light"
          },
          "output_type": "display_data"
        }
      ],
      "source": [
        "#making a histogram for frequency of wins w.r.t number of wickets\n",
        "plt.figure(figsize=(5,5))\n",
        "plt.hist(batting_second['win_by_wickets'],bins=20)\n",
        "plt.ylabel(\"number of wins\")\n",
        "plt.xlabel(\"number of wickets\")\n",
        "plt.show()"
      ]
    },
    {
      "cell_type": "code",
      "execution_count": null,
      "id": "db58b1fd",
      "metadata": {
        "id": "db58b1fd",
        "outputId": "b2b24ed5-f5aa-4717-8133-4631cfaeca56"
      },
      "outputs": [
        {
          "data": {
            "image/png": "[encoded data removed]",
            "text/plain": [
              "<Figure size 504x504 with 1 Axes>"
            ]
          },
          "metadata": {},
          "output_type": "display_data"
        }
      ],
      "source": [
        "plt.figure(figsize=(7,7))\n",
        "plt.pie(list(batting_second['winner'].value_counts()[0:3]),labels=list(batting_second['winner'].value_counts()[0:3].keys()),autopct='%0.1f%%')\n",
        "plt.show()"
      ]
    },
    {
      "cell_type": "code",
      "execution_count": null,
      "id": "2fa60d88",
      "metadata": {
        "id": "2fa60d88",
        "outputId": "fedc356a-8786-44e8-e958-8a310366c909"
      },
      "outputs": [
        {
          "data": {
            "text/plain": [
              "2013    76\n",
              "2012    74\n",
              "2011    73\n",
              "2010    60\n",
              "2014    60\n",
              "2016    60\n",
              "2015    59\n",
              "2008    58\n",
              "2009    57\n",
              "Name: season, dtype: int64"
            ]
          },
          "execution_count": 65,
          "metadata": {},
          "output_type": "execute_result"
        }
      ],
      "source": [
        "#number of matches played each season\n",
        "ipl['season'].value_counts()"
      ]
    },
    {
      "cell_type": "code",
      "execution_count": null,
      "id": "d4910224",
      "metadata": {
        "id": "d4910224",
        "outputId": "55baa51e-6cdc-4339-dbeb-10a35458e74c"
      },
      "outputs": [
        {
          "data": {
            "text/plain": [
              "Mumbai            77\n",
              "Bangalore         58\n",
              "Kolkata           54\n",
              "Delhi             53\n",
              "Chennai           48\n",
              "Chandigarh        42\n",
              "Hyderabad         41\n",
              "Jaipur            33\n",
              "Pune              25\n",
              "Durban            15\n",
              "Centurion         12\n",
              "Ahmedabad         12\n",
              "Visakhapatnam     11\n",
              "Dharamsala         9\n",
              "Johannesburg       8\n",
              "Cuttack            7\n",
              "Port Elizabeth     7\n",
              "Cape Town          7\n",
              "Ranchi             7\n",
              "Abu Dhabi          7\n",
              "Sharjah            6\n",
              "Raipur             6\n",
              "Kochi              5\n",
              "Rajkot             5\n",
              "Kimberley          3\n",
              "Nagpur             3\n",
              "East London        3\n",
              "Bloemfontein       2\n",
              "Indore             2\n",
              "Kanpur             2\n",
              "Name: city, dtype: int64"
            ]
          },
          "execution_count": 67,
          "metadata": {},
          "output_type": "execute_result"
        }
      ],
      "source": [
        "#number of matches played in each city\n",
        "ipl['city'].value_counts()"
      ]
    },
    {
      "cell_type": "code",
      "execution_count": null,
      "id": "6de2123d",
      "metadata": {
        "id": "6de2123d",
        "outputId": "96fec21d-549d-402d-d665-97f3ddc1cb7a"
      },
      "outputs": [
        {
          "data": {
            "text/plain": [
              "291"
            ]
          },
          "execution_count": 69,
          "metadata": {},
          "output_type": "execute_result"
        }
      ],
      "source": [
        "#finding out how many times team has won after winning toss\n",
        "np.sum(ipl['toss_winner']==ipl['winner'])"
      ]
    },
    {
      "cell_type": "code",
      "execution_count": null,
      "id": "9a93c5f5",
      "metadata": {
        "id": "9a93c5f5",
        "outputId": "920c0f08-94fd-41fe-f590-77aae0807855"
      },
      "outputs": [
        {
          "data": {
            "text/plain": [
              "0.5043327556325823"
            ]
          },
          "execution_count": 70,
          "metadata": {},
          "output_type": "execute_result"
        }
      ],
      "source": [
        "291/577"
      ]
    },
    {
      "cell_type": "code",
      "execution_count": null,
      "id": "58ae5edd",
      "metadata": {
        "id": "58ae5edd"
      },
      "outputs": [],
      "source": [
        "deliveries=pd.read_csv('delivery.csv')"
      ]
    },
    {
      "cell_type": "code",
      "execution_count": null,
      "id": "c8203612",
      "metadata": {
        "id": "c8203612",
        "outputId": "283de685-1851-415d-92b7-d285cc47ad4e"
      },
      "outputs": [
        {
          "data": {
            "text/html": [
              "<div>\n",
              "<style scoped>\n",
              "    .dataframe tbody tr th:only-of-type {\n",
              "        vertical-align: middle;\n",
              "    }\n",
              "\n",
              "    .dataframe tbody tr th {\n",
              "        vertical-align: top;\n",
              "    }\n",
              "\n",
              "    .dataframe thead th {\n",
              "        text-align: right;\n",
              "    }\n",
              "</style>\n",
              "<table border=\"1\" class=\"dataframe\">\n",
              "  <thead>\n",
              "    <tr style=\"text-align: right;\">\n",
              "      <th></th>\n",
              "      <th>match_id</th>\n",
              "      <th>inning</th>\n",
              "      <th>batting_team</th>\n",
              "      <th>bowling_team</th>\n",
              "      <th>over</th>\n",
              "      <th>ball</th>\n",
              "      <th>batsman</th>\n",
              "      <th>non_striker</th>\n",
              "      <th>bowler</th>\n",
              "      <th>is_super_over</th>\n",
              "      <th>...</th>\n",
              "      <th>bye_runs</th>\n",
              "      <th>legbye_runs</th>\n",
              "      <th>noball_runs</th>\n",
              "      <th>penalty_runs</th>\n",
              "      <th>batsman_runs</th>\n",
              "      <th>extra_runs</th>\n",
              "      <th>total_runs</th>\n",
              "      <th>player_dismissed</th>\n",
              "      <th>dismissal_kind</th>\n",
              "      <th>fielder</th>\n",
              "    </tr>\n",
              "  </thead>\n",
              "  <tbody>\n",
              "    <tr>\n",
              "      <th>0</th>\n",
              "      <td>1</td>\n",
              "      <td>1</td>\n",
              "      <td>Kolkata Knight Riders</td>\n",
              "      <td>Royal Challengers Bangalore</td>\n",
              "      <td>1</td>\n",
              "      <td>1</td>\n",
              "      <td>SC Ganguly</td>\n",
              "      <td>BB McCullum</td>\n",
              "      <td>P Kumar</td>\n",
              "      <td>0</td>\n",
              "      <td>...</td>\n",
              "      <td>0</td>\n",
              "      <td>1</td>\n",
              "      <td>0</td>\n",
              "      <td>0</td>\n",
              "      <td>0</td>\n",
              "      <td>1</td>\n",
              "      <td>1</td>\n",
              "      <td>NaN</td>\n",
              "      <td>NaN</td>\n",
              "      <td>NaN</td>\n",
              "    </tr>\n",
              "    <tr>\n",
              "      <th>1</th>\n",
              "      <td>1</td>\n",
              "      <td>1</td>\n",
              "      <td>Kolkata Knight Riders</td>\n",
              "      <td>Royal Challengers Bangalore</td>\n",
              "      <td>1</td>\n",
              "      <td>2</td>\n",
              "      <td>BB McCullum</td>\n",
              "      <td>SC Ganguly</td>\n",
              "      <td>P Kumar</td>\n",
              "      <td>0</td>\n",
              "      <td>...</td>\n",
              "      <td>0</td>\n",
              "      <td>0</td>\n",
              "      <td>0</td>\n",
              "      <td>0</td>\n",
              "      <td>0</td>\n",
              "      <td>0</td>\n",
              "      <td>0</td>\n",
              "      <td>NaN</td>\n",
              "      <td>NaN</td>\n",
              "      <td>NaN</td>\n",
              "    </tr>\n",
              "    <tr>\n",
              "      <th>2</th>\n",
              "      <td>1</td>\n",
              "      <td>1</td>\n",
              "      <td>Kolkata Knight Riders</td>\n",
              "      <td>Royal Challengers Bangalore</td>\n",
              "      <td>1</td>\n",
              "      <td>3</td>\n",
              "      <td>BB McCullum</td>\n",
              "      <td>SC Ganguly</td>\n",
              "      <td>P Kumar</td>\n",
              "      <td>0</td>\n",
              "      <td>...</td>\n",
              "      <td>0</td>\n",
              "      <td>0</td>\n",
              "      <td>0</td>\n",
              "      <td>0</td>\n",
              "      <td>0</td>\n",
              "      <td>1</td>\n",
              "      <td>1</td>\n",
              "      <td>NaN</td>\n",
              "      <td>NaN</td>\n",
              "      <td>NaN</td>\n",
              "    </tr>\n",
              "    <tr>\n",
              "      <th>3</th>\n",
              "      <td>1</td>\n",
              "      <td>1</td>\n",
              "      <td>Kolkata Knight Riders</td>\n",
              "      <td>Royal Challengers Bangalore</td>\n",
              "      <td>1</td>\n",
              "      <td>4</td>\n",
              "      <td>BB McCullum</td>\n",
              "      <td>SC Ganguly</td>\n",
              "      <td>P Kumar</td>\n",
              "      <td>0</td>\n",
              "      <td>...</td>\n",
              "      <td>0</td>\n",
              "      <td>0</td>\n",
              "      <td>0</td>\n",
              "      <td>0</td>\n",
              "      <td>0</td>\n",
              "      <td>0</td>\n",
              "      <td>0</td>\n",
              "      <td>NaN</td>\n",
              "      <td>NaN</td>\n",
              "      <td>NaN</td>\n",
              "    </tr>\n",
              "    <tr>\n",
              "      <th>4</th>\n",
              "      <td>1</td>\n",
              "      <td>1</td>\n",
              "      <td>Kolkata Knight Riders</td>\n",
              "      <td>Royal Challengers Bangalore</td>\n",
              "      <td>1</td>\n",
              "      <td>5</td>\n",
              "      <td>BB McCullum</td>\n",
              "      <td>SC Ganguly</td>\n",
              "      <td>P Kumar</td>\n",
              "      <td>0</td>\n",
              "      <td>...</td>\n",
              "      <td>0</td>\n",
              "      <td>0</td>\n",
              "      <td>0</td>\n",
              "      <td>0</td>\n",
              "      <td>0</td>\n",
              "      <td>0</td>\n",
              "      <td>0</td>\n",
              "      <td>NaN</td>\n",
              "      <td>NaN</td>\n",
              "      <td>NaN</td>\n",
              "    </tr>\n",
              "  </tbody>\n",
              "</table>\n",
              "<p>5 rows × 21 columns</p>\n",
              "</div>"
            ],
            "text/plain": [
              "   match_id  inning           batting_team                 bowling_team  over  \\\n",
              "0         1       1  Kolkata Knight Riders  Royal Challengers Bangalore     1   \n",
              "1         1       1  Kolkata Knight Riders  Royal Challengers Bangalore     1   \n",
              "2         1       1  Kolkata Knight Riders  Royal Challengers Bangalore     1   \n",
              "3         1       1  Kolkata Knight Riders  Royal Challengers Bangalore     1   \n",
              "4         1       1  Kolkata Knight Riders  Royal Challengers Bangalore     1   \n",
              "\n",
              "   ball      batsman  non_striker   bowler  is_super_over  ...  bye_runs  \\\n",
              "0     1   SC Ganguly  BB McCullum  P Kumar              0  ...         0   \n",
              "1     2  BB McCullum   SC Ganguly  P Kumar              0  ...         0   \n",
              "2     3  BB McCullum   SC Ganguly  P Kumar              0  ...         0   \n",
              "3     4  BB McCullum   SC Ganguly  P Kumar              0  ...         0   \n",
              "4     5  BB McCullum   SC Ganguly  P Kumar              0  ...         0   \n",
              "\n",
              "   legbye_runs  noball_runs  penalty_runs  batsman_runs  extra_runs  \\\n",
              "0            1            0             0             0           1   \n",
              "1            0            0             0             0           0   \n",
              "2            0            0             0             0           1   \n",
              "3            0            0             0             0           0   \n",
              "4            0            0             0             0           0   \n",
              "\n",
              "   total_runs  player_dismissed dismissal_kind fielder  \n",
              "0           1               NaN            NaN     NaN  \n",
              "1           0               NaN            NaN     NaN  \n",
              "2           1               NaN            NaN     NaN  \n",
              "3           0               NaN            NaN     NaN  \n",
              "4           0               NaN            NaN     NaN  \n",
              "\n",
              "[5 rows x 21 columns]"
            ]
          },
          "execution_count": 6,
          "metadata": {},
          "output_type": "execute_result"
        }
      ],
      "source": [
        "deliveries.head()"
      ]
    },
    {
      "cell_type": "code",
      "execution_count": null,
      "id": "2fd1b870",
      "metadata": {
        "id": "2fd1b870",
        "outputId": "563d1d7e-93c4-41c2-884a-ccc1abedf69c"
      },
      "outputs": [
        {
          "data": {
            "text/plain": [
              "array([1, 2, 3, 4, 5], dtype=int64)"
            ]
          },
          "execution_count": 7,
          "metadata": {},
          "output_type": "execute_result"
        }
      ],
      "source": [
        "deliveries['match_id'].unique()"
      ]
    },
    {
      "cell_type": "code",
      "execution_count": null,
      "id": "22a1404b",
      "metadata": {
        "id": "22a1404b"
      },
      "outputs": [],
      "source": [
        "match_1=deliveries[deliveries['match_id']==1]"
      ]
    },
    {
      "cell_type": "code",
      "execution_count": null,
      "id": "eac09c94",
      "metadata": {
        "id": "eac09c94",
        "outputId": "42ecdb2a-8cbd-4cf1-896a-c13000d596b1"
      },
      "outputs": [
        {
          "data": {
            "text/html": [
              "<div>\n",
              "<style scoped>\n",
              "    .dataframe tbody tr th:only-of-type {\n",
              "        vertical-align: middle;\n",
              "    }\n",
              "\n",
              "    .dataframe tbody tr th {\n",
              "        vertical-align: top;\n",
              "    }\n",
              "\n",
              "    .dataframe thead th {\n",
              "        text-align: right;\n",
              "    }\n",
              "</style>\n",
              "<table border=\"1\" class=\"dataframe\">\n",
              "  <thead>\n",
              "    <tr style=\"text-align: right;\">\n",
              "      <th></th>\n",
              "      <th>match_id</th>\n",
              "      <th>inning</th>\n",
              "      <th>batting_team</th>\n",
              "      <th>bowling_team</th>\n",
              "      <th>over</th>\n",
              "      <th>ball</th>\n",
              "      <th>batsman</th>\n",
              "      <th>non_striker</th>\n",
              "      <th>bowler</th>\n",
              "      <th>is_super_over</th>\n",
              "      <th>...</th>\n",
              "      <th>bye_runs</th>\n",
              "      <th>legbye_runs</th>\n",
              "      <th>noball_runs</th>\n",
              "      <th>penalty_runs</th>\n",
              "      <th>batsman_runs</th>\n",
              "      <th>extra_runs</th>\n",
              "      <th>total_runs</th>\n",
              "      <th>player_dismissed</th>\n",
              "      <th>dismissal_kind</th>\n",
              "      <th>fielder</th>\n",
              "    </tr>\n",
              "  </thead>\n",
              "  <tbody>\n",
              "    <tr>\n",
              "      <th>0</th>\n",
              "      <td>1</td>\n",
              "      <td>1</td>\n",
              "      <td>Kolkata Knight Riders</td>\n",
              "      <td>Royal Challengers Bangalore</td>\n",
              "      <td>1</td>\n",
              "      <td>1</td>\n",
              "      <td>SC Ganguly</td>\n",
              "      <td>BB McCullum</td>\n",
              "      <td>P Kumar</td>\n",
              "      <td>0</td>\n",
              "      <td>...</td>\n",
              "      <td>0</td>\n",
              "      <td>1</td>\n",
              "      <td>0</td>\n",
              "      <td>0</td>\n",
              "      <td>0</td>\n",
              "      <td>1</td>\n",
              "      <td>1</td>\n",
              "      <td>NaN</td>\n",
              "      <td>NaN</td>\n",
              "      <td>NaN</td>\n",
              "    </tr>\n",
              "    <tr>\n",
              "      <th>1</th>\n",
              "      <td>1</td>\n",
              "      <td>1</td>\n",
              "      <td>Kolkata Knight Riders</td>\n",
              "      <td>Royal Challengers Bangalore</td>\n",
              "      <td>1</td>\n",
              "      <td>2</td>\n",
              "      <td>BB McCullum</td>\n",
              "      <td>SC Ganguly</td>\n",
              "      <td>P Kumar</td>\n",
              "      <td>0</td>\n",
              "      <td>...</td>\n",
              "      <td>0</td>\n",
              "      <td>0</td>\n",
              "      <td>0</td>\n",
              "      <td>0</td>\n",
              "      <td>0</td>\n",
              "      <td>0</td>\n",
              "      <td>0</td>\n",
              "      <td>NaN</td>\n",
              "      <td>NaN</td>\n",
              "      <td>NaN</td>\n",
              "    </tr>\n",
              "    <tr>\n",
              "      <th>2</th>\n",
              "      <td>1</td>\n",
              "      <td>1</td>\n",
              "      <td>Kolkata Knight Riders</td>\n",
              "      <td>Royal Challengers Bangalore</td>\n",
              "      <td>1</td>\n",
              "      <td>3</td>\n",
              "      <td>BB McCullum</td>\n",
              "      <td>SC Ganguly</td>\n",
              "      <td>P Kumar</td>\n",
              "      <td>0</td>\n",
              "      <td>...</td>\n",
              "      <td>0</td>\n",
              "      <td>0</td>\n",
              "      <td>0</td>\n",
              "      <td>0</td>\n",
              "      <td>0</td>\n",
              "      <td>1</td>\n",
              "      <td>1</td>\n",
              "      <td>NaN</td>\n",
              "      <td>NaN</td>\n",
              "      <td>NaN</td>\n",
              "    </tr>\n",
              "    <tr>\n",
              "      <th>3</th>\n",
              "      <td>1</td>\n",
              "      <td>1</td>\n",
              "      <td>Kolkata Knight Riders</td>\n",
              "      <td>Royal Challengers Bangalore</td>\n",
              "      <td>1</td>\n",
              "      <td>4</td>\n",
              "      <td>BB McCullum</td>\n",
              "      <td>SC Ganguly</td>\n",
              "      <td>P Kumar</td>\n",
              "      <td>0</td>\n",
              "      <td>...</td>\n",
              "      <td>0</td>\n",
              "      <td>0</td>\n",
              "      <td>0</td>\n",
              "      <td>0</td>\n",
              "      <td>0</td>\n",
              "      <td>0</td>\n",
              "      <td>0</td>\n",
              "      <td>NaN</td>\n",
              "      <td>NaN</td>\n",
              "      <td>NaN</td>\n",
              "    </tr>\n",
              "    <tr>\n",
              "      <th>4</th>\n",
              "      <td>1</td>\n",
              "      <td>1</td>\n",
              "      <td>Kolkata Knight Riders</td>\n",
              "      <td>Royal Challengers Bangalore</td>\n",
              "      <td>1</td>\n",
              "      <td>5</td>\n",
              "      <td>BB McCullum</td>\n",
              "      <td>SC Ganguly</td>\n",
              "      <td>P Kumar</td>\n",
              "      <td>0</td>\n",
              "      <td>...</td>\n",
              "      <td>0</td>\n",
              "      <td>0</td>\n",
              "      <td>0</td>\n",
              "      <td>0</td>\n",
              "      <td>0</td>\n",
              "      <td>0</td>\n",
              "      <td>0</td>\n",
              "      <td>NaN</td>\n",
              "      <td>NaN</td>\n",
              "      <td>NaN</td>\n",
              "    </tr>\n",
              "  </tbody>\n",
              "</table>\n",
              "<p>5 rows × 21 columns</p>\n",
              "</div>"
            ],
            "text/plain": [
              "   match_id  inning           batting_team                 bowling_team  over  \\\n",
              "0         1       1  Kolkata Knight Riders  Royal Challengers Bangalore     1   \n",
              "1         1       1  Kolkata Knight Riders  Royal Challengers Bangalore     1   \n",
              "2         1       1  Kolkata Knight Riders  Royal Challengers Bangalore     1   \n",
              "3         1       1  Kolkata Knight Riders  Royal Challengers Bangalore     1   \n",
              "4         1       1  Kolkata Knight Riders  Royal Challengers Bangalore     1   \n",
              "\n",
              "   ball      batsman  non_striker   bowler  is_super_over  ...  bye_runs  \\\n",
              "0     1   SC Ganguly  BB McCullum  P Kumar              0  ...         0   \n",
              "1     2  BB McCullum   SC Ganguly  P Kumar              0  ...         0   \n",
              "2     3  BB McCullum   SC Ganguly  P Kumar              0  ...         0   \n",
              "3     4  BB McCullum   SC Ganguly  P Kumar              0  ...         0   \n",
              "4     5  BB McCullum   SC Ganguly  P Kumar              0  ...         0   \n",
              "\n",
              "   legbye_runs  noball_runs  penalty_runs  batsman_runs  extra_runs  \\\n",
              "0            1            0             0             0           1   \n",
              "1            0            0             0             0           0   \n",
              "2            0            0             0             0           1   \n",
              "3            0            0             0             0           0   \n",
              "4            0            0             0             0           0   \n",
              "\n",
              "   total_runs  player_dismissed dismissal_kind fielder  \n",
              "0           1               NaN            NaN     NaN  \n",
              "1           0               NaN            NaN     NaN  \n",
              "2           1               NaN            NaN     NaN  \n",
              "3           0               NaN            NaN     NaN  \n",
              "4           0               NaN            NaN     NaN  \n",
              "\n",
              "[5 rows x 21 columns]"
            ]
          },
          "execution_count": 9,
          "metadata": {},
          "output_type": "execute_result"
        }
      ],
      "source": [
        "match_1.head()"
      ]
    },
    {
      "cell_type": "code",
      "execution_count": null,
      "id": "5ae64d90",
      "metadata": {
        "id": "5ae64d90",
        "outputId": "138cfbe7-7601-49dd-82f2-c778f17d2f46"
      },
      "outputs": [
        {
          "data": {
            "text/plain": [
              "(225, 21)"
            ]
          },
          "execution_count": 12,
          "metadata": {},
          "output_type": "execute_result"
        }
      ],
      "source": [
        "match_1.shape"
      ]
    },
    {
      "cell_type": "code",
      "execution_count": null,
      "id": "18476dd4",
      "metadata": {
        "id": "18476dd4"
      },
      "outputs": [],
      "source": [
        "srh=match_1[match_1['inning']==1]"
      ]
    },
    {
      "cell_type": "code",
      "execution_count": null,
      "id": "edb4a484",
      "metadata": {
        "id": "edb4a484",
        "outputId": "457d81a5-ed87-409c-e747-51bed823d612"
      },
      "outputs": [
        {
          "data": {
            "text/plain": [
              "0    45\n",
              "1    39\n",
              "4    15\n",
              "6    14\n",
              "2    11\n",
              "Name: batsman_runs, dtype: int64"
            ]
          },
          "execution_count": 15,
          "metadata": {},
          "output_type": "execute_result"
        }
      ],
      "source": [
        "srh['batsman_runs'].value_counts()"
      ]
    },
    {
      "cell_type": "code",
      "execution_count": null,
      "id": "b4ff344d",
      "metadata": {
        "id": "b4ff344d",
        "outputId": "f0b88943-2854-4727-f166-084b0eebf199"
      },
      "outputs": [
        {
          "data": {
            "text/plain": [
              "caught    3\n",
              "Name: dismissal_kind, dtype: int64"
            ]
          },
          "execution_count": 16,
          "metadata": {},
          "output_type": "execute_result"
        }
      ],
      "source": [
        "srh['dismissal_kind'].value_counts()"
      ]
    },
    {
      "cell_type": "code",
      "execution_count": null,
      "id": "4608a480",
      "metadata": {
        "id": "4608a480"
      },
      "outputs": [],
      "source": [
        "rcb=match_1[match_1['inning']==2]"
      ]
    },
    {
      "cell_type": "code",
      "execution_count": null,
      "id": "76d6dbe0",
      "metadata": {
        "id": "76d6dbe0",
        "outputId": "cfb53ee4-16e9-4506-b7cf-ce5d4990bf62"
      },
      "outputs": [
        {
          "data": {
            "text/plain": [
              "0    65\n",
              "1    27\n",
              "2     3\n",
              "6     3\n",
              "4     3\n",
              "Name: batsman_runs, dtype: int64"
            ]
          },
          "execution_count": 18,
          "metadata": {},
          "output_type": "execute_result"
        }
      ],
      "source": [
        "rcb['batsman_runs'].value_counts()"
      ]
    },
    {
      "cell_type": "code",
      "execution_count": null,
      "id": "da00b2d6",
      "metadata": {
        "id": "da00b2d6",
        "outputId": "31c43644-e56e-4f40-83de-b19262d4daed"
      },
      "outputs": [
        {
          "data": {
            "text/plain": [
              "caught     6\n",
              "bowled     3\n",
              "run out    1\n",
              "Name: dismissal_kind, dtype: int64"
            ]
          },
          "execution_count": 19,
          "metadata": {},
          "output_type": "execute_result"
        }
      ],
      "source": [
        "rcb['dismissal_kind'].value_counts()"
      ]
    }
  ],
  "metadata": {
    "kernelspec": {
      "display_name": "Python 3 (ipykernel)",
      "language": "python",
      "name": "python3"
    },
    "language_info": {
      "codemirror_mode": {
        "name": "ipython",
        "version": 3
      },
      "file_extension": ".py",
      "mimetype": "text/x-python",
      "name": "python",
      "nbconvert_exporter": "python",
      "pygments_lexer": "ipython3",
      "version": "3.9.7"
    },
    "colab": {
      "name": "IPL case study (1).ipynb",
      "provenance": []
    }
  },
  "nbformat": 4,
  "nbformat_minor": 5
}